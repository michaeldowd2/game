{
 "cells": [
  {
   "cell_type": "code",
   "execution_count": 1,
   "id": "ac3995e4",
   "metadata": {},
   "outputs": [],
   "source": [
    "from classes import *\n",
    "import matplotlib.pyplot as plt\n",
    "import time\n",
    "import numpy as np"
   ]
  },
  {
   "cell_type": "code",
   "execution_count": 9,
   "id": "f6429f10",
   "metadata": {},
   "outputs": [],
   "source": [
    "settings = []\n",
    "# V1 base settings - max output at 10 with 4 offices, 2 warehouse, 4 emps in each department\n",
    "# max gross is fully used, all buildings and all desks are fully used\n",
    "# 3% of random combinations give positive net income on a turn\n",
    "settings.append(GameSettings(base_emp_value = 1, \n",
    "                             base_emp_cost = 1,\n",
    "                             base_bud_value = 4,\n",
    "                             base_bud_cost = 1,\n",
    "                             engineering_to_unit_cost = {0:5,1:4,2:3,3:2,4:1},\n",
    "                             marketing_to_brand = {0:2,1:3,2:4,3:5,4:6},\n",
    "                             finance_to_max_gross = {0:4,1:8,2:16,3:24,4:32},\n",
    "                             operations_to_max_buildings = {0:2,1:3,2:4,3:5,4:6},\n",
    "                             price_to_demand = {1:6,2:5,3:4,4:3,5:2} \n",
    "                            ))\n",
    "# V2 - same settings as the base, but each employee only costs 0.5\n",
    "# 10% of random combinations give positive net on a turn\n",
    "settings.append(GameSettings(base_emp_value = 1,\n",
    "                             base_emp_cost = 0.5,\n",
    "                             base_bud_value = 4,\n",
    "                             base_bud_cost = 1,\n",
    "                             engineering_to_unit_cost = {0:5,1:4,2:3,3:2,4:1},\n",
    "                             marketing_to_brand = {0:2,1:3,2:4,3:5,4:6},\n",
    "                             finance_to_max_gross = {0:4,1:8,2:16,3:24,4:32},\n",
    "                             operations_to_max_buildings = {0:2,1:3,2:4,3:5,4:6},\n",
    "                             price_to_demand = {1:6,2:5,3:4,4:3,5:2} \n",
    "                            ))"
   ]
  },
  {
   "cell_type": "code",
   "execution_count": 11,
   "id": "3393ec2a",
   "metadata": {},
   "outputs": [
    {
     "name": "stdout",
     "output_type": "stream",
     "text": [
      "---- finished simulation for setting: 0 time: 0.4089937210083008 seconds ----\n",
      "mean: -9.828889281299665, std: 4.624276123746564, pos ratio: 0.015362881864736005\n",
      "              gamestate key  net income\n",
      "4434  (4, 4, 4, 4, 4, 2, 5)          10\n",
      "3137  (4, 4, 4, 3, 4, 2, 5)           7\n",
      "3373  (3, 3, 4, 2, 3, 2, 5)           7\n",
      "1980  (1, 2, 4, 0, 2, 1, 5)           6\n",
      "314   (1, 3, 4, 0, 2, 1, 5)           5\n",
      "---- finished simulation for setting: 1 time: 0.41344594955444336 seconds ----\n",
      "mean: -5.249208582483292, std: 4.140915484279538, pos ratio: 0.09919099542736545\n",
      "              gamestate key  net income\n",
      "4168  (4, 4, 4, 4, 4, 2, 5)        18.0\n",
      "4659  (4, 4, 4, 3, 4, 2, 5)        14.5\n",
      "3609  (3, 3, 4, 2, 3, 2, 5)        13.0\n",
      "5038  (4, 3, 4, 2, 4, 2, 5)        11.5\n",
      "1364  (4, 3, 3, 4, 4, 2, 5)        11.0\n"
     ]
    }
   ],
   "source": [
    "res_dfs, count = [], 0\n",
    "for setting in settings:\n",
    "    # set up game and generate sample gamestates\n",
    "    start_time = time.time()\n",
    "    game = Game(setting, no_players = 1)\n",
    "    res = game.players[0].generate_game_states(setting, game.companies[0], iterations = 10000, debug = 0)\n",
    "    print('---- finished simulation for setting: ' + str(count) + ' time: ' + str((time.time() - start_time)) + ' seconds ----')\n",
    "    \n",
    "    # analyse output\n",
    "    res = res.sort_values(by = 'net income', ascending = False)\n",
    "    net_list = res['net income'].tolist()\n",
    "    pos_rat = len([x for x in net_list if x > 0])/len(net_list)\n",
    "    print('mean: ' + str(np.mean(net_list)) + ', std: ' + str(np.std(net_list)) + ', pos ratio: ' + str(pos_rat))\n",
    "    print(res[0:5][['gamestate key','net income']])\n",
    "    res_dfs.append(res)\n",
    "    count += 1"
   ]
  },
  {
   "cell_type": "code",
   "execution_count": 4,
   "id": "6d84ceed",
   "metadata": {},
   "outputs": [
    {
     "name": "stdout",
     "output_type": "stream",
     "text": [
      "--- special keys for setting: 0\n",
      "key: (4, 4, 4, 4, 4, 2, 5)\n",
      "A, employees: 16/16, operations: 4, engineering: 4, finance: 4, marketing: 4\n",
      "B, buildings: 6/6, production: 8, desks: 16\n",
      "C, price: 5, price demand: 2, brand demand: 6, demand strength: 8, actual demand: 8\n",
      "D, unit cost: 1, unit profit: 4, units sold: 8\n",
      "E, gross income: 32/32, actual gross: 32, total cost: 22, net: 10\n",
      "\n",
      "--- special keys for setting: 0\n",
      "key: (4, 4, 4, 4, 4, 2, 5)\n",
      "A, employees: 16/16, operations: 4, engineering: 4, finance: 4, marketing: 4\n",
      "B, buildings: 6/6, production: 8, desks: 16\n",
      "C, price: 5, price demand: 2, brand demand: 6, demand strength: 8, actual demand: 8\n",
      "D, unit cost: 1, unit profit: 4, units sold: 8\n",
      "E, gross income: 32/32, actual gross: 32, total cost: 14.0, net: 18.0\n",
      "\n",
      "--- top 3 results from setting: 0\n",
      "key: (4, 4, 4, 4, 4, 2, 5)\n",
      "A, employees: 16/16, operations: 4, engineering: 4, finance: 4, marketing: 4\n",
      "B, buildings: 6/6, production: 8, desks: 16\n",
      "C, price: 5, price demand: 2, brand demand: 6, demand strength: 8, actual demand: 8\n",
      "D, unit cost: 1, unit profit: 4, units sold: 8\n",
      "E, gross income: 32/32, actual gross: 32, total cost: 22, net: 10\n",
      "\n",
      "key: (3, 3, 4, 2, 3, 2, 5)\n",
      "A, employees: 12/12, operations: 3, engineering: 4, finance: 3, marketing: 2\n",
      "B, buildings: 5/5, production: 8, desks: 12\n",
      "C, price: 5, price demand: 2, brand demand: 4, demand strength: 6, actual demand: 6\n",
      "D, unit cost: 1, unit profit: 4, units sold: 6\n",
      "E, gross income: 24/24, actual gross: 24, total cost: 17, net: 7\n",
      "\n",
      "key: (4, 4, 4, 3, 4, 2, 5)\n",
      "A, employees: 15/16, operations: 4, engineering: 4, finance: 4, marketing: 3\n",
      "B, buildings: 6/6, production: 8, desks: 16\n",
      "C, price: 5, price demand: 2, brand demand: 5, demand strength: 7, actual demand: 7\n",
      "D, unit cost: 1, unit profit: 4, units sold: 7\n",
      "E, gross income: 28/32, actual gross: 28, total cost: 21, net: 7\n",
      "\n",
      "--- top 3 results from setting: 0\n",
      "key: (4, 4, 4, 3, 4, 2, 5)\n",
      "A, employees: 15/16, operations: 4, engineering: 4, finance: 4, marketing: 3\n",
      "B, buildings: 6/6, production: 8, desks: 16\n",
      "C, price: 5, price demand: 2, brand demand: 5, demand strength: 7, actual demand: 7\n",
      "D, unit cost: 1, unit profit: 4, units sold: 7\n",
      "E, gross income: 28/32, actual gross: 28, total cost: 13.5, net: 14.5\n",
      "\n",
      "key: (3, 3, 4, 2, 3, 2, 5)\n",
      "A, employees: 12/12, operations: 3, engineering: 4, finance: 3, marketing: 2\n",
      "B, buildings: 5/5, production: 8, desks: 12\n",
      "C, price: 5, price demand: 2, brand demand: 4, demand strength: 6, actual demand: 6\n",
      "D, unit cost: 1, unit profit: 4, units sold: 6\n",
      "E, gross income: 24/24, actual gross: 24, total cost: 11.0, net: 13.0\n",
      "\n",
      "key: (4, 3, 4, 2, 4, 2, 5)\n",
      "A, employees: 13/16, operations: 4, engineering: 4, finance: 3, marketing: 2\n",
      "B, buildings: 6/6, production: 8, desks: 16\n",
      "C, price: 5, price demand: 2, brand demand: 4, demand strength: 6, actual demand: 6\n",
      "D, unit cost: 1, unit profit: 4, units sold: 6\n",
      "E, gross income: 24/24, actual gross: 24, total cost: 12.5, net: 11.5\n",
      "\n"
     ]
    }
   ],
   "source": [
    "special_keys = [\n",
    "    (4, 4, 4, 4, 4, 2, 5), # max employees + 4 offices and 2 warehouses\n",
    "]\n",
    "for i in range(len(settings)):\n",
    "    print('--- special keys for setting: ' + str(0))\n",
    "    setting = settings[i]\n",
    "    game = Game(setting, no_players = 1)\n",
    "    for key in special_keys:\n",
    "        print('key: ' + str(key))\n",
    "        game.companies[0].analyse_game_state(key, debug=1)\n",
    "        print()\n",
    "\n",
    "for i in range(len(settings)):\n",
    "    print('--- top 3 results from setting: ' + str(0))\n",
    "    setting = settings[i]\n",
    "    game = Game(setting, no_players = 1)\n",
    "    for key in res_dfs[i][:3]['gamestate key']:\n",
    "        print('key: ' + str(key))\n",
    "        game.companies[0].analyse_game_state(key, debug=1)\n",
    "        print()"
   ]
  },
  {
   "cell_type": "code",
   "execution_count": 5,
   "id": "92e2f09f",
   "metadata": {},
   "outputs": [
    {
     "data": {
      "text/plain": [
       "(array([0.01615434, 0.07433472, 0.10101104, 0.07594396, 0.04902006,\n",
       "        0.0207345 , 0.00916031, 0.00328038, 0.00111409, 0.00012379]),\n",
       " array([-14.  , -11.15,  -8.3 ,  -5.45,  -2.6 ,   0.25,   3.1 ,   5.95,\n",
       "          8.8 ,  11.65,  14.5 ]),\n",
       " <BarContainer object of 10 artists>)"
      ]
     },
     "execution_count": 5,
     "metadata": {},
     "output_type": "execute_result"
    },
    {
     "data": {
      "image/png": "[encoded data removed]",
      "text/plain": [
       "<Figure size 640x480 with 1 Axes>"
      ]
     },
     "metadata": {},
     "output_type": "display_data"
    }
   ],
   "source": [
    "res_arr = res_dfs[1]['net income'].to_numpy()\n",
    "plt.hist(res_arr, density=True)"
   ]
  }
 ],
 "metadata": {
  "kernelspec": {
   "display_name": "Python 3 (ipykernel)",
   "language": "python",
   "name": "python3"
  },
  "language_info": {
   "codemirror_mode": {
    "name": "ipython",
    "version": 3
   },
   "file_extension": ".py",
   "mimetype": "text/x-python",
   "name": "python",
   "nbconvert_exporter": "python",
   "pygments_lexer": "ipython3",
   "version": "3.11.2"
  }
 },
 "nbformat": 4,
 "nbformat_minor": 5
}

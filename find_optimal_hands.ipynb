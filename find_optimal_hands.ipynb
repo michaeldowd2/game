{
 "cells": [
  {
   "cell_type": "code",
   "execution_count": 1,
   "id": "ac3995e4",
   "metadata": {},
   "outputs": [],
   "source": [
    "from classes import *\n",
    "import matplotlib.pyplot as plt\n",
    "import time\n",
    "import numpy as np"
   ]
  },
  {
   "cell_type": "markdown",
   "id": "9898b353",
   "metadata": {},
   "source": [
    "<h4>Game Overview</h4>\n",
    "<p>Deck-building game where players are growing a company and product by hiring and renting new employees and buildings into their deck. Each employee and building card has a specific cost associated and contributes to specific attributes of the hypothetical player company and product. Here are the attributes that employees and buildings contribute to:</p>\n",
    "<li>number of available desks for employees (office building card)</li>\n",
    "<li>number of units produced (factory building card)</li>\n",
    "<li>unit cost (engineering employee cards)</li>\n",
    "<li>brand strength (marketing employee cards)</li>\n",
    "<li>max number of buildings (operations employee card)</li>\n",
    "<li>max gross income (finance employee card)</li>\n",
    "\n",
    "<p>Each turn players will bid against each other to pull new cards from a common pool into their deck and and can remove existing ones to try and optimise their company's net income. Net income will be calculated using a formula based on the above attributes and a product price which players can set arbitrarily.\n",
    "    \n",
    "The formula needs to be made as easy as possible, so IRL players can calculate it more or less in their heads using a couple of visual helpers (e.g. cards with sliders to track attributes and indicate the calc).\n",
    "\n",
    "The main competitive element is that there is a global market demand for the hypothetical product that all players are producing. e.g. how many units can be sold in any one turn by all players combined. This will be dictated by turning cards that move it up or down like a random-walk, simulating economy movement. Each player is essentially trying to grab as big a slice of the global market as possible. The mechanic to enable this is that each player will calculate a 'demand strength' attribute based on their own 'product price' and 'brand strength' attributes. At the end of each turn, the demand strengths will be compared across players and a lookup table or somethinw will determine what proportion of the overall market demand each player is allowed to sell. The idea is that a lower price or better brand can help capture more demand and I'm hoping it leads to kind of price-wars or tactics like selling at a loss in order to elimate other players etc.</p>\n",
    "\n"
   ]
  },
  {
   "cell_type": "markdown",
   "id": "0f8a62e2",
   "metadata": {},
   "source": [
    "<h4>Whats this Notebook</h4>\n",
    "<p>The main challenge I'm trying to solve here is to make sure the above attributes and price mechanic are balanced and feed meaningfully into the overall 'net income' calc. If they're unbalanced, then some cards might end up being useless to take into the player deck. The attributes each type of card effects are fixed in the function for calculating net income, but the amount they effect the calc is controlled by mapping dictionaries and scaling factors - I'm aiming to come up with the best values for these so that every type of card has a meaningful impact on the net income. </p>\n",
    "<h4>Game Settings Code</h4>\n",
    "<p>this is how the parameters are set up and the idea is that I tweak these and then run simulations to try and check how the game progresses or how well balanced it is with different settings</p>"
   ]
  },
  {
   "cell_type": "code",
   "execution_count": 2,
   "id": "c820731e",
   "metadata": {},
   "outputs": [],
   "source": [
    "settings, settings1 = [], []\n",
    "# USE THIS - simple calcs, maxed out at 4 of everything and max price\n",
    "#V1.5 - emp base cost is 1, factories produce 3 and cost 2, offices support 4 and cost 1\n",
    "settings.append(GameSettings(base_emp_value = 1, # how much do level 0 employee cards contribute to a single attribute\n",
    "                             base_emp_cost = 1, # how much do level 0 employee cards cost each turn\n",
    "                             office_to_desk = 4, # how many desks does each office building have (limits max employees)\n",
    "                             office_cost = 1, # how much do office cards cost each turn\n",
    "                             factory_to_prod = 3, # how much do factories produce (limits units that can be sold)\n",
    "                             factory_cost = 2, # how much do factories cost each turn\n",
    "                             engineering_to_unit_cost = {0:5,1:4,2:3,3:2,4:1}, # how do engineering points map to 'unit cost' attribute of product\n",
    "                             marketing_to_brand = {0:4,1:5,2:6,3:7,4:8}, # how do marketing points map to 'brand strength' attribute of product\n",
    "                             finance_to_max_gross = {0:4,1:12,2:24,3:36,4:48}, # how do finance points map to 'max gross income' attribute of the company (limits how much money company can take in)\n",
    "                             operations_to_max_buildings = {0:2,1:4,2:6,3:7,4:8}, # how to operations points map to 'max buildings' attribute of company (limits how many buildings can be in player deck)\n",
    "                             price_to_demand = {1:8,2:7,3:6,4:5,5:4} \n",
    "                            ))\n",
    "\n",
    "# V2 - use 0.5 and some other lower cost factories\n",
    "# Main advantage is that 10% of random combinations give positive net income on a turn, which seems more forgiving\n",
    "# main disadvantage is that it uses 0.5 as the employee cost, so calcs will start getting a bit trickier for people\n",
    "settings.append(GameSettings(base_emp_value = 1,\n",
    "                             base_emp_cost = 0.5,\n",
    "                             office_to_desk = 4,\n",
    "                             office_cost = 1,\n",
    "                             factory_to_prod = 4,\n",
    "                             factory_cost = 1,\n",
    "                             engineering_to_unit_cost = {0:5,1:4,2:3,3:2,4:1},\n",
    "                             marketing_to_brand = {0:2,1:3,2:4,3:5,4:6},\n",
    "                             finance_to_max_gross = {0:4,1:8,2:16,3:24,4:32},\n",
    "                             operations_to_max_buildings = {0:2,1:3,2:4,3:5,4:6},\n",
    "                             price_to_demand = {1:6,2:5,3:4,4:3,5:2} \n",
    "                            ))\n",
    "# V3 - trying to match V2\n",
    "# uses integer cost, so easier than 0.5 per employee but only certain combos of ops\n",
    "# very high percentage of positive net income combinations - so again might be more forgiving\n",
    "settings.append(GameSettings(base_emp_value = 2,\n",
    "                             base_emp_cost = 1,\n",
    "                             office_to_desk = 2,\n",
    "                             office_cost = 1,\n",
    "                             factory_to_prod = 4,\n",
    "                             factory_cost = 1,\n",
    "                             engineering_to_unit_cost = {0:5,2:3,4:1},\n",
    "                             marketing_to_brand = {0:2,2:4,4:6},\n",
    "                             finance_to_max_gross = {0:4,2:16,4:32},\n",
    "                             operations_to_max_buildings = {0:2,2:4,4:6},\n",
    "                             price_to_demand = {1:6,2:5,3:4,4:3,5:2} \n",
    "                            ))"
   ]
  },
  {
   "cell_type": "code",
   "execution_count": 3,
   "id": "3393ec2a",
   "metadata": {},
   "outputs": [
    {
     "name": "stdout",
     "output_type": "stream",
     "text": [
      "---- finished simulation for setting: 0 time: 0.461200475692749 seconds ----\n",
      "mean: -10.6773, std: 5.289268825650669, pos ratio: 0.0341\n",
      "              gamestate key  net income\n",
      "9677  (4, 4, 4, 3, 4, 4, 5)          17\n",
      "9916  (3, 3, 4, 1, 3, 3, 5)          16\n",
      "2084  (2, 4, 4, 1, 3, 3, 5)          16\n",
      "5499  (3, 3, 4, 2, 3, 3, 5)          15\n",
      "4199  (3, 3, 4, 1, 4, 3, 5)          15\n",
      "---- finished simulation for setting: 1 time: 0.4403645992279053 seconds ----\n",
      "mean: -5.278741675429373, std: 4.111781764073144, pos ratio: 0.09674027339642481\n",
      "              gamestate key  net income\n",
      "5334  (4, 4, 4, 3, 4, 2, 5)        14.5\n",
      "3741  (3, 3, 4, 2, 3, 2, 5)        13.0\n",
      "4491  (4, 3, 4, 2, 4, 2, 5)        11.5\n",
      "2588  (4, 4, 4, 2, 4, 2, 5)        11.0\n",
      "2497  (4, 3, 4, 3, 4, 2, 5)        11.0\n",
      "---- finished simulation for setting: 2 time: 0.3227975368499756 seconds ----\n",
      "mean: -5.382850241545894, std: 4.512949226027569, pos ratio: 0.10869565217391304\n",
      "             gamestate key  net income\n",
      "730  (4, 4, 4, 4, 4, 2, 5)          18\n",
      "216  (4, 4, 4, 2, 4, 2, 5)          11\n",
      "741  (4, 4, 4, 4, 4, 2, 4)          10\n",
      "132  (2, 2, 4, 0, 2, 1, 5)           9\n",
      "378  (2, 2, 4, 0, 2, 2, 5)           8\n"
     ]
    }
   ],
   "source": [
    "# all this is simulating is different hand combinations and calculating the net income from each\n",
    "# the hand with the highest net income is like the ideal player deck and players might try and reach that deck through different routes\n",
    "res_dfs, count = [], 0\n",
    "for setting in settings:\n",
    "    # set up game and generate sample gamestates\n",
    "    start_time = time.time()\n",
    "    game = Game(setting, no_players = 1)\n",
    "    res = game.players[0].generate_game_states(setting, game.companies[0], iterations = 10000, debug = 0)\n",
    "    print('---- finished simulation for setting: ' + str(count) + ' time: ' + str((time.time() - start_time)) + ' seconds ----')\n",
    "    \n",
    "    # analyse output\n",
    "    res = res.sort_values(by = 'net income', ascending = False)\n",
    "    net_list = res['net income'].tolist()\n",
    "    pos_rat = len([x for x in net_list if x > 0])/len(net_list)\n",
    "    print('mean: ' + str(np.mean(net_list)) + ', std: ' + str(np.std(net_list)) + ', pos ratio: ' + str(pos_rat))\n",
    "    print(res[0:5][['gamestate key','net income']])\n",
    "    res_dfs.append(res)\n",
    "    count += 1"
   ]
  },
  {
   "cell_type": "code",
   "execution_count": 8,
   "id": "6d84ceed",
   "metadata": {},
   "outputs": [
    {
     "name": "stdout",
     "output_type": "stream",
     "text": [
      "--- top 3 results from setting: 0\n",
      "key: (4, 4, 4, 3, 4, 4, 5)\n",
      "A, employees: 15/16, operations: 4, engineering: 4, finance: 4, marketing: 3\n",
      "B, buildings: 8/8, production: 12, desks: 16\n",
      "C, price: 5, price demand: 4, brand demand: 7, demand strength: 11, actual demand: 11\n",
      "D, unit cost: 1, unit profit: 4, units sold: 11\n",
      "E, gross income: 44/48, actual gross: 44, total cost: 27, net: 17\n",
      "\n",
      "key: (3, 3, 4, 1, 3, 3, 5)\n",
      "A, employees: 11/12, operations: 3, engineering: 4, finance: 3, marketing: 1\n",
      "B, buildings: 6/7, production: 9, desks: 12\n",
      "C, price: 5, price demand: 4, brand demand: 5, demand strength: 9, actual demand: 9\n",
      "D, unit cost: 1, unit profit: 4, units sold: 9\n",
      "E, gross income: 36/36, actual gross: 36, total cost: 20, net: 16\n",
      "\n",
      "key: (2, 4, 4, 1, 3, 3, 5)\n",
      "A, employees: 11/12, operations: 2, engineering: 4, finance: 4, marketing: 1\n",
      "B, buildings: 6/6, production: 9, desks: 12\n",
      "C, price: 5, price demand: 4, brand demand: 5, demand strength: 9, actual demand: 9\n",
      "D, unit cost: 1, unit profit: 4, units sold: 9\n",
      "E, gross income: 36/48, actual gross: 36, total cost: 20, net: 16\n",
      "\n",
      "--- top 3 results from setting: 1\n",
      "key: (4, 4, 4, 3, 4, 2, 5)\n",
      "A, employees: 15/16, operations: 4, engineering: 4, finance: 4, marketing: 3\n",
      "B, buildings: 6/6, production: 8, desks: 16\n",
      "C, price: 5, price demand: 2, brand demand: 5, demand strength: 7, actual demand: 7\n",
      "D, unit cost: 1, unit profit: 4, units sold: 7\n",
      "E, gross income: 28/32, actual gross: 28, total cost: 13.5, net: 14.5\n",
      "\n",
      "key: (3, 3, 4, 2, 3, 2, 5)\n",
      "A, employees: 12/12, operations: 3, engineering: 4, finance: 3, marketing: 2\n",
      "B, buildings: 5/5, production: 8, desks: 12\n",
      "C, price: 5, price demand: 2, brand demand: 4, demand strength: 6, actual demand: 6\n",
      "D, unit cost: 1, unit profit: 4, units sold: 6\n",
      "E, gross income: 24/24, actual gross: 24, total cost: 11.0, net: 13.0\n",
      "\n",
      "key: (4, 3, 4, 2, 4, 2, 5)\n",
      "A, employees: 13/16, operations: 4, engineering: 4, finance: 3, marketing: 2\n",
      "B, buildings: 6/6, production: 8, desks: 16\n",
      "C, price: 5, price demand: 2, brand demand: 4, demand strength: 6, actual demand: 6\n",
      "D, unit cost: 1, unit profit: 4, units sold: 6\n",
      "E, gross income: 24/24, actual gross: 24, total cost: 12.5, net: 11.5\n",
      "\n",
      "--- top 3 results from setting: 2\n",
      "key: (4, 4, 4, 4, 4, 2, 5)\n",
      "A, employees: 8/8, operations: 4, engineering: 4, finance: 4, marketing: 4\n",
      "B, buildings: 6/6, production: 8, desks: 8\n",
      "C, price: 5, price demand: 2, brand demand: 6, demand strength: 8, actual demand: 8\n",
      "D, unit cost: 1, unit profit: 4, units sold: 8\n",
      "E, gross income: 32/32, actual gross: 32, total cost: 14, net: 18\n",
      "\n",
      "key: (4, 4, 4, 2, 4, 2, 5)\n",
      "A, employees: 7/8, operations: 4, engineering: 4, finance: 4, marketing: 2\n",
      "B, buildings: 6/6, production: 8, desks: 8\n",
      "C, price: 5, price demand: 2, brand demand: 4, demand strength: 6, actual demand: 6\n",
      "D, unit cost: 1, unit profit: 4, units sold: 6\n",
      "E, gross income: 24/32, actual gross: 24, total cost: 13, net: 11\n",
      "\n",
      "key: (4, 4, 4, 4, 4, 2, 4)\n",
      "A, employees: 8/8, operations: 4, engineering: 4, finance: 4, marketing: 4\n",
      "B, buildings: 6/6, production: 8, desks: 8\n",
      "C, price: 4, price demand: 3, brand demand: 6, demand strength: 9, actual demand: 9\n",
      "D, unit cost: 1, unit profit: 3, units sold: 8\n",
      "E, gross income: 24/32, actual gross: 24, total cost: 14, net: 10\n",
      "\n"
     ]
    }
   ],
   "source": [
    "special_keys = [\n",
    "    (4, 4, 4, 4, 4, 2, 5), # max employees + 4 offices and 2 warehouses\n",
    "    (4, 4, 4, 4, 4, 4, 5), # max employees + 4 offices and 4 warehouses\n",
    "    (4, 4, 4, 4, 4, 4, 4), # max employees + 4 offices and 4 warehouses\n",
    "    (4, 3, 4, 3, 4, 4, 4)\n",
    "]\n",
    "if 1 == 0:\n",
    "    for i in range(len(settings)):\n",
    "        print('--- special keys for setting: ' + str(i))\n",
    "        setting = settings[i]\n",
    "        game = Game(setting, no_players = 1)\n",
    "        for key in special_keys:\n",
    "            print('key: ' + str(key))\n",
    "            game.companies[0].analyse_game_state(key, debug=1)\n",
    "            print()\n",
    "if 1==1:\n",
    "    for i in range(len(settings)):\n",
    "        print('--- top 3 results from setting: ' + str(i))\n",
    "        setting = settings[i]\n",
    "        game = Game(setting, no_players = 1)\n",
    "        for key in res_dfs[i][:3]['gamestate key']:\n",
    "            print('key: ' + str(key))\n",
    "            game.companies[0].analyse_game_state(key, debug=1)\n",
    "            print()"
   ]
  },
  {
   "cell_type": "code",
   "execution_count": 5,
   "id": "956cb0e4",
   "metadata": {},
   "outputs": [
    {
     "data": {
      "text/plain": [
       "(array([0.01617257, 0.07459061, 0.10060201, 0.07618942, 0.04937862,\n",
       "        0.02053855, 0.00891644, 0.00325911, 0.00110687, 0.00012299]),\n",
       " array([-14.  , -11.15,  -8.3 ,  -5.45,  -2.6 ,   0.25,   3.1 ,   5.95,\n",
       "          8.8 ,  11.65,  14.5 ]),\n",
       " <BarContainer object of 10 artists>)"
      ]
     },
     "execution_count": 5,
     "metadata": {},
     "output_type": "execute_result"
    },
    {
     "data": {
      "image/png": "[encoded data removed]",
      "text/plain": [
       "<Figure size 640x480 with 1 Axes>"
      ]
     },
     "metadata": {},
     "output_type": "display_data"
    }
   ],
   "source": [
    "res_arr = res_dfs[1]['net income'].to_numpy()\n",
    "plt.hist(res_arr, density=True)"
   ]
  }
 ],
 "metadata": {
  "kernelspec": {
   "display_name": "Python 3 (ipykernel)",
   "language": "python",
   "name": "python3"
  },
  "language_info": {
   "codemirror_mode": {
    "name": "ipython",
    "version": 3
   },
   "file_extension": ".py",
   "mimetype": "text/x-python",
   "name": "python",
   "nbconvert_exporter": "python",
   "pygments_lexer": "ipython3",
   "version": "3.11.2"
  }
 },
 "nbformat": 4,
 "nbformat_minor": 5
}

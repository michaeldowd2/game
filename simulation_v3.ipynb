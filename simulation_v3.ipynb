{
 "cells": [
  {
   "cell_type": "code",
   "execution_count": 1,
   "id": "84bc0c74",
   "metadata": {},
   "outputs": [],
   "source": [
    "from models import Game, Settings\n",
    "settings = Settings()\n",
    "game = Game(settings, no_players = 1, board_style = 'rectangle')"
   ]
  },
  {
   "cell_type": "code",
   "execution_count": 2,
   "id": "b742de61",
   "metadata": {},
   "outputs": [
    {
     "name": "stdout",
     "output_type": "stream",
     "text": [
      "| \u001b[32mF3\u001b[0m -0 | \u001b[31mR3\u001b[0m -0 | \u001b[31mR3\u001b[0m -0 |\n",
      "| \u001b[32mF3\u001b[0m -0 | \u001b[31mR3\u001b[0m -0 | \u001b[33mI3\u001b[0m -0 |\n",
      "| \u001b[32mF3\u001b[0m -0 | \u001b[32mF3\u001b[0m -0 | \u001b[33mI3\u001b[0m -0 |\n",
      "| \u001b[33mI3\u001b[0m -0 | \u001b[31mR3\u001b[0m -0 | \u001b[33mI3\u001b[0m -0 |\n",
      "\n",
      "sum buy: 0 | sum process: 0 | sum sell: 0\n",
      "tot buds: 0 | tot emps: 0 | tot cost: 0\n",
      "units: 0 | player sell price: 2 | player buy price: 1 | net: 0\n",
      "0\n"
     ]
    }
   ],
   "source": [
    "print(game.board)\n",
    "net = game.board.calc_player_net(0)\n",
    "print(net)"
   ]
  },
  {
   "cell_type": "code",
   "execution_count": 3,
   "id": "4b47e6ad",
   "metadata": {},
   "outputs": [
    {
     "name": "stdout",
     "output_type": "stream",
     "text": [
      "invalid building card: process | on board card: farm\n"
     ]
    },
    {
     "data": {
      "text/plain": [
       "False"
      ]
     },
     "execution_count": 3,
     "metadata": {},
     "output_type": "execute_result"
    }
   ],
   "source": [
    "card = game.building_cards['process'][0]\n",
    "game.board.add_building(0, card, 0, 0)"
   ]
  }
 ],
 "metadata": {
  "kernelspec": {
   "display_name": "Python 3",
   "language": "python",
   "name": "python3"
  },
  "language_info": {
   "codemirror_mode": {
    "name": "ipython",
    "version": 3
   },
   "file_extension": ".py",
   "mimetype": "text/x-python",
   "name": "python",
   "nbconvert_exporter": "python",
   "pygments_lexer": "ipython3",
   "version": "3.11.2"
  }
 },
 "nbformat": 4,
 "nbformat_minor": 5
}

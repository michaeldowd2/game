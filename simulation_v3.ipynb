{
 "cells": [
  {
   "cell_type": "code",
   "execution_count": 5,
   "id": "84bc0c74",
   "metadata": {},
   "outputs": [],
   "source": [
    "from models import Game, Settings\n",
    "settings = Settings()\n",
    "game = Game(settings, no_players = 1, board_style = 'rectangle')\n",
    "cards = game.get_turn_building_cards(False, 4)"
   ]
  },
  {
   "cell_type": "code",
   "execution_count": 6,
   "id": "b742de61",
   "metadata": {},
   "outputs": [
    {
     "name": "stdout",
     "output_type": "stream",
     "text": [
      "| \u001b[31mR3\u001b[0m -0 | \u001b[32mF3\u001b[0m -0 | \u001b[32mF3\u001b[0m -0 |\n",
      "| \u001b[33mI3\u001b[0m -0 | \u001b[32mF3\u001b[0m -0 | \u001b[33mI3\u001b[0m -0 |\n",
      "| \u001b[31mR3\u001b[0m -0 | \u001b[33mI3\u001b[0m -0 | \u001b[33mI3\u001b[0m -0 |\n",
      "| \u001b[31mR3\u001b[0m -0 | \u001b[32mF3\u001b[0m -0 | \u001b[31mR3\u001b[0m -0 |\n",
      "\n",
      "0\n"
     ]
    }
   ],
   "source": [
    "print(game.board)\n",
    "print(game.board.calc_player_net(0))"
   ]
  },
  {
   "cell_type": "code",
   "execution_count": 27,
   "id": "1836e398",
   "metadata": {},
   "outputs": [
    {
     "name": "stdout",
     "output_type": "stream",
     "text": [
      "P0B-00E+000S+1B+0 18 14\n"
     ]
    }
   ],
   "source": [
    "# 4 deep, 45k moves, 20s\n",
    "# 3 deep, 3k moves, 1.2s\n",
    "move, net, count = game.players[0].find_best_move(game.board, cards, max_depth=1, moves_to_try=0, debug_level = 0) \n",
    "print(move, net, count)"
   ]
  },
  {
   "cell_type": "code",
   "execution_count": 28,
   "id": "84b57e4b",
   "metadata": {},
   "outputs": [
    {
     "name": "stdout",
     "output_type": "stream",
     "text": [
      "| \u001b[31mR3\u001b[0m S0 | \u001b[32mF3\u001b[0m B0 | \u001b[32mF3\u001b[0m B0 |\n",
      "| \u001b[33mI3\u001b[0m P0 | \u001b[32mF3\u001b[0m B0 | \u001b[33mI3\u001b[0m P0 |\n",
      "| \u001b[31mR3\u001b[0m S0 | \u001b[33mI3\u001b[0m P0 | \u001b[33mI3\u001b[0m -0 |\n",
      "| \u001b[31mR3\u001b[0m S0 | \u001b[32mF3\u001b[0m -0 | \u001b[31mR3\u001b[0m S0 |\n",
      "\n",
      "sum buy: 15 | sum process: 14 | sum sell: 16\n",
      "tot buds: 10 | tot emps: 0 | tot cost: 10\n",
      "units: 14 | player sell price: 3 | player buy price: 1 | net: 18\n",
      "18\n"
     ]
    }
   ],
   "source": [
    "move.apply(game.board)\n",
    "print(game.board)\n",
    "net = game.board.calc_player_net(0, 1)\n",
    "print(net)"
   ]
  }
 ],
 "metadata": {
  "kernelspec": {
   "display_name": "Python 3",
   "language": "python",
   "name": "python3"
  },
  "language_info": {
   "codemirror_mode": {
    "name": "ipython",
    "version": 3
   },
   "file_extension": ".py",
   "mimetype": "text/x-python",
   "name": "python",
   "nbconvert_exporter": "python",
   "pygments_lexer": "ipython3",
   "version": "3.11.2"
  }
 },
 "nbformat": 4,
 "nbformat_minor": 5
}

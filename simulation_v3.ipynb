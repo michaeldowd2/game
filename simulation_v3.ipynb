{
 "cells": [
  {
   "cell_type": "code",
   "execution_count": 1,
   "id": "84bc0c74",
   "metadata": {},
   "outputs": [],
   "source": [
    "from models import Game, Settings\n",
    "settings = Settings()\n",
    "game = Game(settings, no_players = 1, board_style = 'rectangle')"
   ]
  },
  {
   "cell_type": "code",
   "execution_count": 2,
   "id": "b742de61",
   "metadata": {},
   "outputs": [
    {
     "name": "stdout",
     "output_type": "stream",
     "text": [
      "| \u001b[32mF3\u001b[0m -0 | \u001b[31mR3\u001b[0m -0 | \u001b[33mI3\u001b[0m -0 |\n",
      "| \u001b[32mF3\u001b[0m -0 | \u001b[31mR3\u001b[0m -0 | \u001b[33mI3\u001b[0m -0 |\n",
      "| \u001b[32mF3\u001b[0m -0 | \u001b[31mR3\u001b[0m -0 | \u001b[33mI3\u001b[0m -0 |\n",
      "| \u001b[32mF3\u001b[0m -0 | \u001b[33mI3\u001b[0m -0 | \u001b[31mR3\u001b[0m -0 |\n",
      "\n",
      "sum buy: 0 | sum process: 0 | sum sell: 0\n",
      "tot buds: 0 | tot emps: 0 | tot cost: 0\n",
      "units: 0 | player sell price: 2 | player buy price: 1 | net: 0\n",
      "0\n"
     ]
    }
   ],
   "source": [
    "print(game.board)\n",
    "net = game.board.calc_player_net(0)\n",
    "print(net)"
   ]
  },
  {
   "cell_type": "code",
   "execution_count": 3,
   "id": "ea0e4078",
   "metadata": {},
   "outputs": [
    {
     "name": "stdout",
     "output_type": "stream",
     "text": [
      "invalid building card: sell_market | on board card: farm\n",
      "invalid building card: process | on board card: farm\n",
      "invalid building card: buy_market | on board card: residential\n",
      "invalid building card: process | on board card: residential\n",
      "invalid building card: buy_market | on board card: industry\n",
      "invalid building card: sell_market | on board card: industry\n",
      "invalid building card: sell_market | on board card: farm\n",
      "invalid building card: process | on board card: farm\n",
      "invalid building card: buy_market | on board card: residential\n",
      "invalid building card: process | on board card: residential\n",
      "invalid building card: buy_market | on board card: industry\n",
      "invalid building card: sell_market | on board card: industry\n",
      "invalid building card: sell_market | on board card: farm\n",
      "invalid building card: process | on board card: farm\n",
      "invalid building card: buy_market | on board card: residential\n",
      "invalid building card: process | on board card: residential\n",
      "invalid building card: buy_market | on board card: industry\n",
      "invalid building card: sell_market | on board card: industry\n",
      "invalid building card: sell_market | on board card: farm\n",
      "invalid building card: process | on board card: farm\n",
      "invalid building card: buy_market | on board card: industry\n",
      "invalid building card: sell_market | on board card: industry\n",
      "invalid building card: buy_market | on board card: residential\n",
      "invalid building card: process | on board card: residential\n",
      "invalid building card: none | on board card: farm\n",
      "invalid building card: none | on board card: farm\n",
      "invalid building card: none | on board card: residential\n",
      "invalid building card: none | on board card: residential\n",
      "invalid building card: none | on board card: industry\n",
      "invalid building card: none | on board card: industry\n",
      "invalid building card: none | on board card: farm\n",
      "invalid building card: none | on board card: farm\n",
      "invalid building card: none | on board card: residential\n",
      "invalid building card: none | on board card: residential\n",
      "invalid building card: none | on board card: industry\n",
      "invalid building card: none | on board card: industry\n",
      "invalid building card: none | on board card: farm\n",
      "invalid building card: none | on board card: farm\n",
      "invalid building card: none | on board card: residential\n",
      "invalid building card: none | on board card: residential\n",
      "invalid building card: none | on board card: industry\n",
      "invalid building card: none | on board card: industry\n",
      "invalid building card: none | on board card: farm\n",
      "invalid building card: none | on board card: farm\n",
      "invalid building card: none | on board card: industry\n",
      "invalid building card: none | on board card: industry\n",
      "invalid building card: none | on board card: residential\n",
      "invalid building card: none | on board card: residential\n",
      "invalid building card: none | on board card: farm\n",
      "invalid building card: none | on board card: farm\n",
      "invalid building card: none | on board card: farm\n",
      "invalid building card: none | on board card: farm\n",
      "invalid building card: none | on board card: farm\n",
      "invalid building card: none | on board card: farm\n",
      "invalid building card: none | on board card: farm\n",
      "invalid building card: none | on board card: farm\n"
     ]
    }
   ],
   "source": [
    "cards = game.get_turn_building_cards(False, 4)\n",
    "moves = game.players[0]._generate_possible_moves(game.board, cards)"
   ]
  },
  {
   "cell_type": "code",
   "execution_count": 4,
   "id": "1e4801f8",
   "metadata": {},
   "outputs": [
    {
     "name": "stdout",
     "output_type": "stream",
     "text": [
      "P0BB00E+000S+0B+0\n",
      "P0BH00E+000S+0B+0\n",
      "P0BS01E+001S+0B+0\n",
      "P0BH01E+001S+0B+0\n",
      "P0BP02E+002S+0B+0\n",
      "P0BH02E+002S+0B+0\n",
      "P0BB10E+010S+0B+0\n",
      "P0BH10E+010S+0B+0\n",
      "P0BS11E+011S+0B+0\n",
      "P0BH11E+011S+0B+0\n",
      "P0BP12E+012S+0B+0\n",
      "P0BH12E+012S+0B+0\n",
      "P0BB20E+020S+0B+0\n",
      "P0BH20E+020S+0B+0\n",
      "P0BS21E+021S+0B+0\n",
      "P0BH21E+021S+0B+0\n",
      "P0BP22E+022S+0B+0\n",
      "P0BH22E+022S+0B+0\n",
      "P0BB30E+030S+0B+0\n",
      "P0BH30E+030S+0B+0\n",
      "P0BP31E+031S+0B+0\n",
      "P0BH31E+031S+0B+0\n",
      "P0BS32E+032S+0B+0\n",
      "P0BH32E+032S+0B+0\n"
     ]
    }
   ],
   "source": [
    "for move in moves:\n",
    "    print(move)"
   ]
  }
 ],
 "metadata": {
  "kernelspec": {
   "display_name": "Python 3",
   "language": "python",
   "name": "python3"
  },
  "language_info": {
   "codemirror_mode": {
    "name": "ipython",
    "version": 3
   },
   "file_extension": ".py",
   "mimetype": "text/x-python",
   "name": "python",
   "nbconvert_exporter": "python",
   "pygments_lexer": "ipython3",
   "version": "3.11.2"
  }
 },
 "nbformat": 4,
 "nbformat_minor": 5
}

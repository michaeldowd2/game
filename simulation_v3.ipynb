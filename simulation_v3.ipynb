{
 "cells": [
  {
   "cell_type": "code",
   "execution_count": 3,
   "id": "84bc0c74",
   "metadata": {},
   "outputs": [
    {
     "name": "stdout",
     "output_type": "stream",
     "text": [
      "| F4 | R4 | F4 | R4 |\n",
      "| I4 |         | C4 |\n",
      "| I4 |         | R4 |\n",
      "| R4 |         | I4 |\n",
      "| C4 |         | C4 |\n",
      "| F4 |         | I4 |\n",
      "| I4 |         | C4 |\n",
      "| F4 | F4 | R4 | C4 |\n",
      "\n"
     ]
    }
   ],
   "source": [
    "from classesv3 import *\n",
    "settings = Settings()\n",
    "game = Game(settings, no_players = 2, board_style = 'linear')\n",
    "print(game.board)"
   ]
  }
 ],
 "metadata": {
  "kernelspec": {
   "display_name": "Python 3 (ipykernel)",
   "language": "python",
   "name": "python3"
  },
  "language_info": {
   "codemirror_mode": {
    "name": "ipython",
    "version": 3
   },
   "file_extension": ".py",
   "mimetype": "text/x-python",
   "name": "python",
   "nbconvert_exporter": "python",
   "pygments_lexer": "ipython3",
   "version": "3.11.2"
  }
 },
 "nbformat": 4,
 "nbformat_minor": 5
}

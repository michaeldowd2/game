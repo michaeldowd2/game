{
 "cells": [
  {
   "cell_type": "code",
   "execution_count": 20,
   "id": "84bc0c74",
   "metadata": {},
   "outputs": [],
   "source": [
    "from classesv3 import *\n",
    "settings = Settings()\n",
    "game = Game(settings, no_players = 2, board_style = 'rectangle')"
   ]
  },
  {
   "cell_type": "code",
   "execution_count": 21,
   "id": "b742de61",
   "metadata": {},
   "outputs": [
    {
     "name": "stdout",
     "output_type": "stream",
     "text": [
      "| F4 -0 -0 | I4 -0 -0 | R4 -0 -0 | I4 -0 -0 |\n",
      "| I4 -0 -0 | R4 -0 -0 | R4 -0 -0 | F4 -0 -0 |\n",
      "| F4 -0 -0 | F4 -0 -0 | F4 -0 -0 | I4 -0 -0 |\n",
      "| R4 -0 -0 | I4 -0 -0 | I4 -0 -0 | R4 -0 -0 |\n",
      "\n",
      "sum buy: 0 | sum process: 0 | sum sell: 0\n",
      "tot buds: 0 | tot emps: 0 | tot cost: 0\n",
      "units: 0 | player sell price: 2 | player buy price: 1 | net: 0\n"
     ]
    }
   ],
   "source": [
    "print(game.board)\n",
    "net = game.board.calc_player_net(1)"
   ]
  },
  {
   "cell_type": "code",
   "execution_count": 13,
   "id": "4b47e6ad",
   "metadata": {},
   "outputs": [
    {
     "data": {
      "text/plain": [
       "True"
      ]
     },
     "execution_count": 13,
     "metadata": {},
     "output_type": "execute_result"
    }
   ],
   "source": [
    "card = game.building_cards['buy_market'][0]\n",
    "game.board.add_building(1, card, 1, 3)"
   ]
  }
 ],
 "metadata": {
  "kernelspec": {
   "display_name": "Python 3",
   "language": "python",
   "name": "python3"
  },
  "language_info": {
   "codemirror_mode": {
    "name": "ipython",
    "version": 3
   },
   "file_extension": ".py",
   "mimetype": "text/x-python",
   "name": "python",
   "nbconvert_exporter": "python",
   "pygments_lexer": "ipython3",
   "version": "3.11.2"
  }
 },
 "nbformat": 4,
 "nbformat_minor": 5
}

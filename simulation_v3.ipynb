{
 "cells": [
  {
   "cell_type": "code",
   "execution_count": 1,
   "id": "84bc0c74",
   "metadata": {},
   "outputs": [],
   "source": [
    "from models import Game, Settings\n",
    "settings = Settings()\n",
    "game = Game(settings, no_players = 1, board_style = 'rectangle')"
   ]
  },
  {
   "cell_type": "code",
   "execution_count": 2,
   "id": "b742de61",
   "metadata": {},
   "outputs": [
    {
     "name": "stdout",
     "output_type": "stream",
     "text": [
      "| \u001b[31mR3\u001b[0m -0 | \u001b[31mR3\u001b[0m -0 | \u001b[32mF3\u001b[0m -0 |\n",
      "| \u001b[33mI3\u001b[0m -0 | \u001b[32mF3\u001b[0m -0 | \u001b[33mI3\u001b[0m -0 |\n",
      "| \u001b[31mR3\u001b[0m -0 | \u001b[31mR3\u001b[0m -0 | \u001b[32mF3\u001b[0m -0 |\n",
      "| \u001b[32mF3\u001b[0m -0 | \u001b[33mI3\u001b[0m -0 | \u001b[33mI3\u001b[0m -0 |\n",
      "\n",
      "0\n"
     ]
    }
   ],
   "source": [
    "print(game.board)\n",
    "net = game.board.calc_player_net(0)\n",
    "print(net)"
   ]
  },
  {
   "cell_type": "code",
   "execution_count": 3,
   "id": "ea0e4078",
   "metadata": {},
   "outputs": [],
   "source": [
    "cards = game.get_turn_building_cards(False, 4)\n",
    "moves = game.players[0]._generate_possible_moves(game.board, cards)\n",
    "#print(moves[:3])"
   ]
  },
  {
   "cell_type": "code",
   "execution_count": 18,
   "id": "1836e398",
   "metadata": {},
   "outputs": [
    {
     "name": "stdout",
     "output_type": "stream",
     "text": [
      "0_move: P0BS00E+000S+0B+0\n",
      "| \u001b[31mR3\u001b[0m S0 | \u001b[31mR3\u001b[0m -0 | \u001b[32mF3\u001b[0m -0 |\n",
      "| \u001b[33mI3\u001b[0m -0 | \u001b[32mF3\u001b[0m -0 | \u001b[33mI3\u001b[0m -0 |\n",
      "| \u001b[31mR3\u001b[0m -0 | \u001b[31mR3\u001b[0m -0 | \u001b[32mF3\u001b[0m -0 |\n",
      "| \u001b[32mF3\u001b[0m -0 | \u001b[33mI3\u001b[0m -0 | \u001b[33mI3\u001b[0m -0 |\n",
      "\n",
      "  1_move: P0BS01E+001S+0B+0\n",
      "| \u001b[31mR3\u001b[0m S0 | \u001b[31mR3\u001b[0m S0 | \u001b[32mF3\u001b[0m -0 |\n",
      "| \u001b[33mI3\u001b[0m -0 | \u001b[32mF3\u001b[0m -0 | \u001b[33mI3\u001b[0m -0 |\n",
      "| \u001b[31mR3\u001b[0m -0 | \u001b[31mR3\u001b[0m -0 | \u001b[32mF3\u001b[0m -0 |\n",
      "| \u001b[32mF3\u001b[0m -0 | \u001b[33mI3\u001b[0m -0 | \u001b[33mI3\u001b[0m -0 |\n",
      "\n",
      "    2_move: P0BB02E+002S+0B+0\n",
      "| \u001b[31mR3\u001b[0m S0 | \u001b[31mR3\u001b[0m S0 | \u001b[32mF3\u001b[0m B0 |\n",
      "| \u001b[33mI3\u001b[0m -0 | \u001b[32mF3\u001b[0m -0 | \u001b[33mI3\u001b[0m -0 |\n",
      "| \u001b[31mR3\u001b[0m -0 | \u001b[31mR3\u001b[0m -0 | \u001b[32mF3\u001b[0m -0 |\n",
      "| \u001b[32mF3\u001b[0m -0 | \u001b[33mI3\u001b[0m -0 | \u001b[33mI3\u001b[0m -0 |\n",
      "\n",
      "sum buy: 5 | sum process: 0 | sum sell: 12\n",
      "tot buds: 3 | tot emps: 0 | tot cost: 3\n",
      "units: 0 | player sell price: 2 | player buy price: 1 | net: -3\n",
      "net: -3\n",
      "P0BS00E+000S+0B+0 -3\n"
     ]
    }
   ],
   "source": [
    "move, net = game.players[0].find_best_move(game.board, cards, max_depth=3, moves_to_try=1, debug_level = 2)\n",
    "print(move, net)"
   ]
  }
 ],
 "metadata": {
  "kernelspec": {
   "display_name": "Python 3",
   "language": "python",
   "name": "python3"
  },
  "language_info": {
   "codemirror_mode": {
    "name": "ipython",
    "version": 3
   },
   "file_extension": ".py",
   "mimetype": "text/x-python",
   "name": "python",
   "nbconvert_exporter": "python",
   "pygments_lexer": "ipython3",
   "version": "3.11.2"
  }
 },
 "nbformat": 4,
 "nbformat_minor": 5
}
